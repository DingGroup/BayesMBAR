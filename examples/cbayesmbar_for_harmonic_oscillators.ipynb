{
 "cells": [
  {
   "cell_type": "markdown",
   "metadata": {},
   "source": [
    "## CBayesMBAR for harmonic oscillators\n",
    "In this example, we will compute the free energy differences among four harmonic oscillators using a\n",
    "perturbation graph with cycles. We will use CBayesMBAR to compute the free energy differences, which\n",
    "takes into account constraints on the free energy differences imposed by the cycles in the \n",
    "perturbation graph."
   ]
  },
  {
   "cell_type": "code",
   "execution_count": 8,
   "metadata": {},
   "outputs": [],
   "source": [
    "from bayesmbar import CBayesMBAR\n",
    "import numpy as np"
   ]
  },
  {
   "cell_type": "markdown",
   "metadata": {},
   "source": [
    "#### 1. Setup of the four harmonic oscillators and the perturbation graph\n",
    "The four 2-d harmonic oscillators, labeled as A, B, C, and D, are defined by quadratic potentials of\n",
    "$U_i(x) = 1/2 \\cdot k_i ||x - \\mu_i||^2$, where $k_i$ is the force constant, $\\mu_i$ is the \n",
    "equilibrium position, $i$ is the oscillator index, and $x$ is the position of the oscillator. \n",
    "Both $\\mu_i$ and $x$ are 2-d vectors.\n",
    "\n",
    "The perturbation graph is shown below. The nodes represent the four harmonic oscillators, and the\n",
    "edges represent the perturbation paths between the oscillators. The\n",
    "small black circles on each path represent intermediate states between two oscillators.\n",
    "Each intermediate state is also a harmonic oscillator, whose force constant and equilibrium position\n",
    "are linearly interpolated from the two end states. \n",
    "\n",
    "![Perturbation graph](../_static/graph_abcd.png)"
   ]
  },
  {
   "cell_type": "code",
   "execution_count": 9,
   "metadata": {},
   "outputs": [],
   "source": [
    "ka, kb, kc, kd = 4, 9, 16, 25\n",
    "## equilibrium positions of three two-dimensional harmonic oscillators\n",
    "mu = {\n",
    "    \"a\": np.array([-1.0, 1.0]),\n",
    "    \"b\": np.array([1.0, 1.0]),\n",
    "    \"c\": np.array([1.0, -1.0]),\n",
    "    \"d\": np.array([-1.0, -1.0]),\n",
    "}\n",
    "\n",
    "## spring constants\n",
    "k = {\n",
    "    \"a\": np.ones(2) * ka,\n",
    "    \"b\": np.ones(2) * kb,\n",
    "    \"c\": np.ones(2) * kc,\n",
    "    \"d\": np.ones(2) * kd,\n",
    "}\n",
    "\n",
    "## interpolate the equilibrium positions and spring constants between pairs of states\n",
    "pairs = [(\"a\", \"b\"), (\"b\", \"c\"), (\"c\", \"d\"), (\"d\", \"a\"), (\"a\", \"c\"), (\"b\", \"d\")]\n",
    "for s1, s2 in pairs:\n",
    "    for idx in range(1, 4):\n",
    "        mu[(s1, s2, idx)] = mu[s1] + (mu[s2] - mu[s1]) / 4 * idx\n",
    "        k[(s1, s2, idx)] = k[s1] + (k[s2] - k[s1]) / 4 * idx\n"
   ]
  },
  {
   "cell_type": "markdown",
   "metadata": {},
   "source": [
    "#### 2. Sample configurations from states on perturbation paths\n",
    "Sample configurations from all states including both end states and intermediate states. Because \n",
    "each state is a harmonic oscillator, we can sample configurations from each state by sampling from \n",
    "a 2-d normal distribution with mean $\\mu_i$ and covariance matrix $\\Sigma_i = \\sqrt{1/k_i} \\cdot I$.\n"
   ]
  },
  {
   "cell_type": "code",
   "execution_count": 10,
   "metadata": {},
   "outputs": [],
   "source": [
    "def k_to_sigma(k):\n",
    "    return np.sqrt(1.0 / k)\n",
    "\n",
    "n = 2000\n",
    "np.random.seed(0)\n",
    "x = {}\n",
    "for s in mu.keys():\n",
    "    x[s] = np.random.normal(mu[s], k_to_sigma(k[s]), (n, 2))"
   ]
  },
  {
   "cell_type": "markdown",
   "metadata": {},
   "source": [
    "#### 3. Prepare input for CBayesMBAR\n",
    "Because CBayesMBAR couples multiple MBAR calculations, it requires a list of MBAR inputs. Each MBAR\n",
    "input includes an energy matrix, and a list of numbers of samples from each state in that MBAR.\n",
    "Therefore, the input for CBayesMBAR is a list of energy matrices and a list of lists of numbers of\n",
    "samples. In addition, CBayesMBAR requires information about identical states."
   ]
  },
  {
   "cell_type": "code",
   "execution_count": 11,
   "metadata": {},
   "outputs": [],
   "source": [
    "u_list = []\n",
    "for s1, s2 in pairs:\n",
    "    key = [s1] + [(s1, s2, idx) for idx in range(1, 4)] + [s2]\n",
    "    xs = np.concatenate([x[s] for s in key])\n",
    "    u = np.stack(\n",
    "        [np.sum(0.5 * k[s] * (xs - mu[s]) ** 2, axis=1) for s in key], axis=0\n",
    "    )\n",
    "    u_list.append(u)\n",
    "\n",
    "num_conf_list = [\n",
    "    [u.shape[1] // u.shape[0] for i in range(u.shape[0])] for u in u_list\n",
    "]\n",
    "identical_states = (\n",
    "    [(0, 0), (3, 4), (4, 0)],\n",
    "    [(0, 4), (1, 0), (5, 0)],\n",
    "    [(1, 4), (2, 0), (4, 4)],\n",
    "    [(2, 4), (3, 0), (5, 4)],\n",
    ")"
   ]
  },
  {
   "cell_type": "markdown",
   "metadata": {},
   "source": [
    "#### 4. Compute free energy differences using CBayesMBAR"
   ]
  },
  {
   "cell_type": "code",
   "execution_count": 12,
   "metadata": {},
   "outputs": [
    {
     "name": "stdout",
     "output_type": "stream",
     "text": [
      "Solve for the mode of the likelihood\n",
      "==================================================================\n",
      "                RUNNING THE NEWTON'S METHOD                     \n",
      "\n",
      "                           * * *                                \n",
      "\n",
      "                    Tolerance EPS = 1.00000E-10                  \n",
      "\n",
      "At iterate    0; f= 7.21168E+00; |1/2*Newton_decrement^2|: 1.22139E-02\n",
      "\n",
      "At iterate    1; f= 7.19882E+00; |1/2*Newton_decrement^2|: 1.12662E-04\n",
      "\n",
      "At iterate    2; f= 7.19870E+00; |1/2*Newton_decrement^2|: 2.45339E-08\n",
      "\n",
      "At iterate    3; f= 7.19870E+00; |1/2*Newton_decrement^2|: 1.46859E-15\n",
      "\n",
      "N_iter   = total number of iterations\n",
      "N_func   = total number of function and gradient evaluations\n",
      "F        = final function value \n",
      "\n",
      "             * * *     \n",
      "\n",
      "N_iter    N_func        F\n",
      "     4         7    7.198702E+00\n",
      "  F = 7.198701636703 \n",
      "\n",
      "CONVERGENCE: 1/2*Newton_decrement^2 < EPS\n",
      "=====================================================\n",
      "Sample from the likelihood\n",
      "Running window adaptation\n",
      "Sample using the NUTS sampler█████████████| 100.00% [500/500 00:00<?]\n"
     ]
    }
   ],
   "source": [
    "cbmbar = CBayesMBAR(\n",
    "    u_list, num_conf_list, identical_states, random_seed=0\n",
    ")\n",
    "\n",
    "## compute the free energy difference between end states of each perturbation path\n",
    "deltaF_cbmbar = {}\n",
    "for i in range(len(pairs)):\n",
    "    s1, s2 = pairs[i]\n",
    "    deltaF_cbmbar[(s1, s2)] = cbmbar.DeltaF_mode[i][0, -1].item()"
   ]
  },
  {
   "cell_type": "markdown",
   "metadata": {},
   "source": [
    "#### 5. Compare the results with the exact free energy differences"
   ]
  },
  {
   "cell_type": "code",
   "execution_count": 16,
   "metadata": {},
   "outputs": [
    {
     "name": "stdout",
     "output_type": "stream",
     "text": [
      "Path      CBayesMBAR    Reference\n",
      "------  ------------  -----------\n",
      "a -> b         0.852        0.811\n",
      "b -> c         0.586        0.575\n",
      "c -> d         0.400        0.446\n",
      "d -> a        -1.838       -1.833\n",
      "a -> c         1.438        1.386\n",
      "b -> d         0.986        1.022\n"
     ]
    }
   ],
   "source": [
    "from tabulate import tabulate\n",
    "\n",
    "## compute the exact free energy difference between pairs of states analytically\n",
    "deltaF_ref = {}\n",
    "for s1, s2 in pairs:\n",
    "    deltaF_ref[(s1, s2)] = (\n",
    "        -np.log(k_to_sigma(k[s2])).sum() + np.log(k_to_sigma(k[s1])).sum()\n",
    "    )\n",
    "\n",
    "## print the free energy differences \n",
    "table_data = []\n",
    "for s1, s2 in pairs:\n",
    "    row = [f\"{s1} -> {s2}\", deltaF_cbmbar[(s1, s2)], deltaF_ref[(s1, s2)]]\n",
    "    table_data.append(row)\n",
    "\n",
    "table_headers = [\"Path\", \"CBayesMBAR\", \"Reference\"]\n",
    "table = tabulate(table_data, headers=table_headers, floatfmt=\".3f\")\n",
    "\n",
    "print(table)\n",
    "    "
   ]
  }
 ],
 "metadata": {
  "kernelspec": {
   "display_name": ".venv",
   "language": "python",
   "name": "python3"
  },
  "language_info": {
   "codemirror_mode": {
    "name": "ipython",
    "version": 3
   },
   "file_extension": ".py",
   "mimetype": "text/x-python",
   "name": "python",
   "nbconvert_exporter": "python",
   "pygments_lexer": "ipython3",
   "version": "3.12.5"
  }
 },
 "nbformat": 4,
 "nbformat_minor": 2
}
