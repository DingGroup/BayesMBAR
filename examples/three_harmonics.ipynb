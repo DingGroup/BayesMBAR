{
 "cells": [
  {
   "cell_type": "markdown",
   "metadata": {},
   "source": [
    "## Compute free energy differences among three states"
   ]
  },
  {
   "cell_type": "code",
   "execution_count": 1,
   "metadata": {},
   "outputs": [
    {
     "name": "stderr",
     "output_type": "stream",
     "text": [
      "/cluster/tufts/dinglab/shared_apps/miniconda3/envs/test/lib/python3.12/site-packages/fastprogress/fastprogress.py:107: UserWarning: Couldn't import ipywidgets properly, progress bar will use console behavior\n",
      "  warn(\"Couldn't import ipywidgets properly, progress bar will use console behavior\")\n"
     ]
    }
   ],
   "source": [
    "import math\n",
    "import numpy as np\n",
    "import jax\n",
    "from sys import exit\n",
    "import sys\n",
    "from bayesmbar import BayesMBAR"
   ]
  },
  {
   "cell_type": "code",
   "execution_count": 2,
   "metadata": {},
   "outputs": [],
   "source": [
    "M = 3 ## number of states\n",
    "mu = np.array([0.0, 1.0, 2.0])\n",
    "k = np.array([16.0, 25.0, 36.0])\n",
    "sigma = np.sqrt(1.0 / k)\n",
    "\n",
    "F_true = np.array([-np.log(sigma[i] / sigma[0]) for i in range(1, M)])"
   ]
  },
  {
   "cell_type": "code",
   "execution_count": 3,
   "metadata": {},
   "outputs": [],
   "source": [
    "n = 10000\n",
    "\n",
    "x = [np.random.normal(mu[i], sigma[i], (n,)) for i in range(M)]\n",
    "x = np.concatenate(x)\n",
    "\n",
    "u = 0.5 * k.reshape((-1, 1)) * (x - mu.reshape((-1, 1))) ** 2\n",
    "num_conf = np.array([n for i in range(M)])\n"
   ]
  },
  {
   "cell_type": "code",
   "execution_count": 4,
   "metadata": {},
   "outputs": [
    {
     "name": "stderr",
     "output_type": "stream",
     "text": [
      "An NVIDIA GPU may be present on this machine, but a CUDA-enabled jaxlib is not installed. Falling back to cpu.\n"
     ]
    },
    {
     "name": "stdout",
     "output_type": "stream",
     "text": [
      "Solve for the mode of the likelihood\n",
      "==================================================================\n",
      "                RUNNING THE NEWTON'S METHOD                     \n",
      "\n",
      "                           * * *                                \n",
      "\n",
      "                    Tolerance EPS = 1.00000E-12                  \n",
      "\n",
      "At iterate    0; f= 8.73798E+00; |1/2*Newton_decrement^2|: 2.67554E-04\n",
      "\n",
      "At iterate    1; f= 8.73770E+00; |1/2*Newton_decrement^2|: 1.21303E-07\n",
      "\n",
      "At iterate    2; f= 8.73770E+00; |1/2*Newton_decrement^2|: 1.87904E-14\n",
      "\n",
      "N_iter   = total number of iterations\n",
      "N_func   = total number of function and gradient evaluations\n",
      "F        = final function value \n",
      "\n",
      "             * * *     \n",
      "\n",
      "N_iter    N_func        F\n",
      "     3         5    8.737705E+00\n",
      "  F = 8.737704723510 \n",
      "\n",
      "CONVERGENCE: 1/2*Newton_decrement^2 < EPS\n",
      "\n",
      "=====================================================\n",
      "Sample from the likelihood\n",
      "Running window adaptation\n",
      " |████████████████████████████████████████| 100.00% [200/200 00:00<?]\n",
      "Sample using the NUTS sampler\n",
      " |████████████████████████████████████████| 100.00% [2000/2000 00:00<?]\n"
     ]
    }
   ],
   "source": [
    "mbar = BayesMBAR(\n",
    "    u,\n",
    "    num_conf,\n",
    "    prior='uniform',\n",
    "    mean=None,\n",
    "    state_cv=None,\n",
    "    kernel=None,\n",
    "    sample_size=2000,\n",
    "    warmup_steps=200,\n",
    "    optimize_steps=0,\n",
    "    random_seed=0\n",
    ")"
   ]
  },
  {
   "cell_type": "code",
   "execution_count": null,
   "metadata": {},
   "outputs": [],
   "source": []
  }
 ],
 "metadata": {
  "kernelspec": {
   "display_name": "jop",
   "language": "python",
   "name": "python3"
  },
  "language_info": {
   "codemirror_mode": {
    "name": "ipython",
    "version": 3
   },
   "file_extension": ".py",
   "mimetype": "text/x-python",
   "name": "python",
   "nbconvert_exporter": "python",
   "pygments_lexer": "ipython3",
   "version": "3.12.2"
  }
 },
 "nbformat": 4,
 "nbformat_minor": 2
}
