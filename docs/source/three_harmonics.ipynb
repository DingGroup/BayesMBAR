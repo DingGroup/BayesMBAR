{
 "cells": [
  {
   "cell_type": "markdown",
   "metadata": {},
   "source": [
    "# Compute free energy differences among three states\n",
    "\n",
    "In this example, we will use BayesMBAR to compute the free energy differences among three states.\n",
    "Each of the three states corresponds to a harmonic oscillator with a different force constant and equilibrium position.\n",
    "Because the potential energy function is quadratic, the free energy differences among the three states can be computed analytically.\n",
    "To compute the free energy differences using BayesMBAR, we follow the following steps:\n",
    "\n",
    "1. Draw samples from the Boltzmann distribution of each state.\n",
    "2. For each sample from each state, compute its reduced potential energy in all three states. Put the reduced potential energies in a matrix, which will be used as input to BayesMBAR.\n",
    "3. Use BayesMBAR to compute the free energy differences among the three states. \n",
    "\n"
   ]
  },
  {
   "cell_type": "code",
   "execution_count": null,
   "metadata": {},
   "outputs": [],
   "source": [
    "import math\n",
    "import numpy as np\n",
    "import jax\n",
    "from sys import exit\n",
    "import sys\n",
    "from bayesmbar import BayesMBAR"
   ]
  },
  {
   "cell_type": "markdown",
   "metadata": {},
   "source": [
    "Define the eqilibrium positions and force constants of the three harmonic oscillators and compute the free energy differences among the three states using the analytical formula."
   ]
  },
  {
   "cell_type": "code",
   "execution_count": 2,
   "metadata": {},
   "outputs": [],
   "source": [
    "M = 3 ## number of states\n",
    "mu = np.array([0.0, 1.0, 2.0]) ## equilibrium positions\n",
    "k = np.array([16.0, 25.0, 36.0]) ## force constants\n",
    "sigma = np.sqrt(1.0 / k)\n",
    "\n",
    "F_true = np.array([-np.log(sigma[i] / sigma[0]) for i in range(1, M)])"
   ]
  },
  {
   "cell_type": "markdown",
   "metadata": {},
   "source": [
    "Draw samples from the Boltzmann distribution of each state and compute the reduced potential energies of the samples in all three states."
   ]
  },
  {
   "cell_type": "code",
   "execution_count": 3,
   "metadata": {},
   "outputs": [],
   "source": [
    "n = 10000\n",
    "\n",
    "x = [np.random.normal(mu[i], sigma[i], (n,)) for i in range(M)]\n",
    "x = np.concatenate(x)\n",
    "\n",
    "u = 0.5 * k.reshape((-1, 1)) * (x - mu.reshape((-1, 1))) ** 2\n",
    "num_conf = np.array([n for i in range(M)])\n"
   ]
  },
  {
   "cell_type": "markdown",
   "metadata": {},
   "source": [
    "Run BayesMBAR to compute the free energy differences among the three states and compare the results with the analytical formula."
   ]
  },
  {
   "cell_type": "code",
   "execution_count": 4,
   "metadata": {},
   "outputs": [
    {
     "name": "stderr",
     "output_type": "stream",
     "text": [
      "CUDA backend failed to initialize: Unable to load CUDA. Is it installed? (Set TF_CPP_MIN_LOG_LEVEL=0 and rerun for more info.)\n"
     ]
    },
    {
     "name": "stdout",
     "output_type": "stream",
     "text": [
      "Solve for the mode of the likelihood\n",
      "==================================================================\n",
      "                RUNNING THE NEWTON'S METHOD                     \n",
      "\n",
      "                           * * *                                \n",
      "\n",
      "                    Tolerance EPS = 1.00000E-12                  \n",
      "\n",
      "At iterate    0; f= 8.74608E+00; |1/2*Newton_decrement^2|: 2.49502E-04\n",
      "\n",
      "At iterate    1; f= 8.74583E+00; |1/2*Newton_decrement^2|: 6.92783E-08\n",
      "\n",
      "At iterate    2; f= 8.74583E+00; |1/2*Newton_decrement^2|: 3.57769E-15\n",
      "\n",
      "N_iter   = total number of iterations\n",
      "N_func   = total number of function and gradient evaluations\n",
      "F        = final function value \n",
      "\n",
      "             * * *     \n",
      "\n",
      "N_iter    N_func        F\n",
      "     3         5    8.745826E+00\n",
      "  F = 8.745826354948 \n",
      "\n",
      "CONVERGENCE: 1/2*Newton_decrement^2 < EPS\n",
      "\n",
      "=====================================================\n",
      "Sample from the likelihood\n",
      "Sample using the NUTS sampler\n"
     ]
    }
   ],
   "source": [
    "mbar = BayesMBAR(\n",
    "    u,\n",
    "    num_conf,\n",
    "    prior='uniform',\n",
    "    mean=None,\n",
    "    state_cv=None,\n",
    "    kernel=None,\n",
    "    sample_size=2000,\n",
    "    warmup_steps=200,\n",
    "    optimize_steps=0,\n",
    "    random_seed=0,\n",
    "    verbose=False\n",
    ")"
   ]
  },
  {
   "cell_type": "code",
   "execution_count": null,
   "metadata": {},
   "outputs": [],
   "source": []
  }
 ],
 "metadata": {
  "kernelspec": {
   "display_name": "jop",
   "language": "python",
   "name": "python3"
  },
  "language_info": {
   "codemirror_mode": {
    "name": "ipython",
    "version": 3
   },
   "file_extension": ".py",
   "mimetype": "text/x-python",
   "name": "python",
   "nbconvert_exporter": "python",
   "pygments_lexer": "ipython3",
   "version": "3.12.2"
  }
 },
 "nbformat": 4,
 "nbformat_minor": 2
}
