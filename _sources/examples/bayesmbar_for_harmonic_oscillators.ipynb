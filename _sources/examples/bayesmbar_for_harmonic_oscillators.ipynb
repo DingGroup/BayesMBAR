{
 "cells": [
  {
   "cell_type": "markdown",
   "metadata": {},
   "source": [
    "# BayesMBAR for harmonic oscillators\n",
    "\n",
    "In this example, we will use BayesMBAR to compute the free energy differences among five states.\n",
    "Each of the five states corresponds to a harmonic oscillator with a different force constant and equilibrium position.\n",
    "Because the potential energy function is quadratic, the free energy differences among the five states can be computed analytically, and we will use the analytical results to validate the results from BayesMBAR.\n",
    "To compute the free energy differences using BayesMBAR, we follow the following steps:\n",
    "\n",
    "1. Draw samples from the Boltzmann distribution of each state.\n",
    "2. For each sample from each state, compute its reduced potential energy in all five states. Put the reduced potential energies in a matrix, which will be used as input to BayesMBAR.\n",
    "3. Use BayesMBAR to compute the free energy differences among the five states and compare the results to the analytical results."
   ]
  },
  {
   "cell_type": "code",
   "execution_count": 10,
   "metadata": {},
   "outputs": [],
   "source": [
    "import math\n",
    "import numpy as np\n",
    "import jax\n",
    "from sys import exit\n",
    "import sys\n",
    "from bayesmbar import BayesMBAR"
   ]
  },
  {
   "cell_type": "markdown",
   "metadata": {},
   "source": [
    "Define the eqilibrium positions and force constants of the harmonic oscillators and compute the free energy differences among them using the analytical formula."
   ]
  },
  {
   "cell_type": "code",
   "execution_count": 11,
   "metadata": {},
   "outputs": [],
   "source": [
    "M = 5 ## number of states\n",
    "mu = np.linspace(0, 1, M) ## equilibrium positions\n",
    "np.random.seed(0)\n",
    "k = np.random.uniform(10, 30, M) ## force constants\n",
    "\n",
    "sigma = np.sqrt(1.0 / k)\n",
    "F_reference = -np.log(sigma)"
   ]
  },
  {
   "cell_type": "markdown",
   "metadata": {},
   "source": [
    "Draw samples from the Boltzmann distribution of each state and compute the reduced potential energies of the samples in all states."
   ]
  },
  {
   "cell_type": "code",
   "execution_count": 12,
   "metadata": {},
   "outputs": [],
   "source": [
    "n = 10000\n",
    "\n",
    "x = [np.random.normal(mu[i], sigma[i], (n,)) for i in range(M)]\n",
    "x = np.concatenate(x)\n",
    "\n",
    "u = 0.5 * k.reshape((-1, 1)) * (x - mu.reshape((-1, 1))) ** 2\n",
    "num_conf = np.array([n for i in range(M)])"
   ]
  },
  {
   "cell_type": "markdown",
   "metadata": {},
   "source": [
    "Run BayesMBAR to compute the free energy differences among the states and compare the results with the analytical formula."
   ]
  },
  {
   "cell_type": "code",
   "execution_count": 13,
   "metadata": {},
   "outputs": [
    {
     "name": "stdout",
     "output_type": "stream",
     "text": [
      "Solve for the mode of the likelihood\n",
      "==================================================================\n",
      "                RUNNING THE NEWTON'S METHOD                     \n",
      "\n",
      "                           * * *                                \n",
      "\n",
      "                    Tolerance EPS = 1.00000E-12                  \n",
      "\n",
      "At iterate    0; f= 9.68802E+00; |1/2*Newton_decrement^2|: 5.34750E-04\n",
      "\n",
      "At iterate    1; f= 9.68749E+00; |1/2*Newton_decrement^2|: 4.78385E-08\n",
      "\n",
      "At iterate    2; f= 9.68749E+00; |1/2*Newton_decrement^2|: 3.83538E-16\n",
      "\n",
      "N_iter   = total number of iterations\n",
      "N_func   = total number of function and gradient evaluations\n",
      "F        = final function value \n",
      "\n",
      "             * * *     \n",
      "\n",
      "N_iter    N_func        F\n",
      "     3         5    9.687490E+00\n",
      "  F = 9.687489749636 \n",
      "\n",
      "CONVERGENCE: 1/2*Newton_decrement^2 < EPS\n",
      "\n",
      "=====================================================\n",
      "Sample from the likelihood\n",
      "Sample using the NUTS sampler\n"
     ]
    }
   ],
   "source": [
    "mbar = BayesMBAR(\n",
    "    u,\n",
    "    num_conf,\n",
    "    prior='uniform',\n",
    "    mean=None,\n",
    "    state_cv=None,\n",
    "    kernel=None,\n",
    "    sample_size=1000,\n",
    "    warmup_steps=100,\n",
    "    optimize_steps=0,\n",
    "    random_seed=0,\n",
    "    verbose=False\n",
    ")"
   ]
  },
  {
   "cell_type": "markdown",
   "metadata": {},
   "source": [
    "Because we can only compute the free energy of states up to an additive constant, the free energy of states returned by BayesMBAR is shifted so that the sum of the free energies of all states is zero. We will first shift the analytical results similary and then compare the results from BayesMBAR with the analytical results."
   ]
  },
  {
   "cell_type": "code",
   "execution_count": 14,
   "metadata": {},
   "outputs": [
    {
     "name": "stdout",
     "output_type": "stream",
     "text": [
      "reference result:  [-0.01  0.07  0.02 -0.01 -0.07]\n",
      "posterior mode  :  [-0.02  0.07  0.02 -0.01 -0.07]\n",
      "posterior mean  :  [-0.02  0.07  0.02 -0.01 -0.07]\n"
     ]
    }
   ],
   "source": [
    "F_reference = F_reference - np.mean(F_reference)\n",
    "np.set_printoptions(precision=2)\n",
    "\n",
    "print(\"reference result: \", F_reference)\n",
    "print(\"posterior mode  : \", mbar.F_mode)\n",
    "print(\"posterior mean  : \", mbar.F_mean)"
   ]
  },
  {
   "cell_type": "markdown",
   "metadata": {},
   "source": [
    "BayesMBAR uses the posterior standard deviation of the free energy as an estimate of the uncertainty of the free energy."
   ]
  },
  {
   "cell_type": "code",
   "execution_count": 15,
   "metadata": {},
   "outputs": [
    {
     "name": "stdout",
     "output_type": "stream",
     "text": [
      "posterior std   :  [0.01 0.01 0.   0.01 0.01]\n"
     ]
    }
   ],
   "source": [
    "print(\"posterior std   : \", mbar.F_std)"
   ]
  },
  {
   "cell_type": "markdown",
   "metadata": {},
   "source": [
    "BayesMBAR also computes estimates and uncertainties of free energy differences between pairs of states."
   ]
  },
  {
   "cell_type": "code",
   "execution_count": 16,
   "metadata": {},
   "outputs": [
    {
     "name": "stdout",
     "output_type": "stream",
     "text": [
      "posterior mode of free energy differences: \n",
      "[[ 0.    0.08  0.04  0.01 -0.05]\n",
      " [-0.08  0.   -0.05 -0.07 -0.13]\n",
      " [-0.04  0.05  0.   -0.03 -0.09]\n",
      " [-0.01  0.07  0.03  0.   -0.06]\n",
      " [ 0.05  0.13  0.09  0.06  0.  ]]\n"
     ]
    }
   ],
   "source": [
    "print(\"posterior mode of free energy differences: \")\n",
    "print(mbar.DeltaF_mode)"
   ]
  },
  {
   "cell_type": "code",
   "execution_count": 17,
   "metadata": {},
   "outputs": [
    {
     "name": "stdout",
     "output_type": "stream",
     "text": [
      "posterior mean of free energy differences: \n",
      "[[ 0.    0.08  0.04  0.01 -0.05]\n",
      " [-0.08  0.   -0.05 -0.07 -0.13]\n",
      " [-0.04  0.05  0.   -0.03 -0.09]\n",
      " [-0.01  0.07  0.03  0.   -0.06]\n",
      " [ 0.05  0.13  0.09  0.06  0.  ]]\n"
     ]
    }
   ],
   "source": [
    "print(\"posterior mean of free energy differences: \")\n",
    "print(mbar.DeltaF_mean)"
   ]
  },
  {
   "cell_type": "code",
   "execution_count": 18,
   "metadata": {},
   "outputs": [
    {
     "name": "stdout",
     "output_type": "stream",
     "text": [
      "posterior std of free energy differences: \n",
      "[[0.   0.01 0.01 0.02 0.02]\n",
      " [0.01 0.   0.01 0.01 0.02]\n",
      " [0.01 0.01 0.   0.01 0.01]\n",
      " [0.02 0.01 0.01 0.   0.01]\n",
      " [0.02 0.02 0.01 0.01 0.  ]]\n"
     ]
    }
   ],
   "source": [
    "print(\"posterior std of free energy differences: \")\n",
    "print(mbar.DeltaF_std)"
   ]
  }
 ],
 "metadata": {
  "kernelspec": {
   "display_name": "jop",
   "language": "python",
   "name": "python3"
  },
  "language_info": {
   "codemirror_mode": {
    "name": "ipython",
    "version": 3
   },
   "file_extension": ".py",
   "mimetype": "text/x-python",
   "name": "python",
   "nbconvert_exporter": "python",
   "pygments_lexer": "ipython3",
   "version": "3.12.5"
  }
 },
 "nbformat": 4,
 "nbformat_minor": 2
}
